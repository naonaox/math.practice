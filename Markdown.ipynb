{
 "cells": [
  {
   "cell_type": "markdown",
   "metadata": {},
   "source": [
    "heading:<br>\n",
    "# titles\n",
    "## major headings\n",
    "### subheadings\n",
    "#### 4th level subheadings"
   ]
  },
  {
   "cell_type": "markdown",
   "metadata": {},
   "source": [
    "emphasis:<br>\n",
    "__bold text__<br>\n",
    "**bold text **<br>\n",
    "_italic text_<br>\n",
    "*italic text*"
   ]
  },
  {
   "cell_type": "markdown",
   "metadata": {},
   "source": [
    "mathematical symbols:<br>\n",
    "$ mathematical symbols $<br>\n",
    "$ $ $"
   ]
  },
  {
   "cell_type": "markdown",
   "metadata": {},
   "source": [
    "monospace font:<br>\n",
    "`string`"
   ]
  },
  {
   "cell_type": "markdown",
   "metadata": {},
   "source": [
    "line breaks: <br>\n",
    "$ <br> $"
   ]
  },
  {
   "cell_type": "markdown",
   "metadata": {},
   "source": [
    "indenting:<br>\n",
    "> Text that will be indented when the markdown in rendered\n",
    ">> try 2nd indent"
   ]
  },
  {
   "cell_type": "markdown",
   "metadata": {},
   "source": [
    "bullets:<br>\n",
    "- bulleted item\n",
    "-  bulleted item\n",
    " - bulleted item\n",
    " * bulleted item\n",
    " *  bulleted item\n",
    " - main bullet point\n",
    "     - sub bullete point\n",
    "         - thrid bullete point"
   ]
  },
  {
   "cell_type": "markdown",
   "metadata": {},
   "source": [
    "numbered lists:<br>\n",
    "1. numbered item\n",
    "1. numbered item\n",
    "\n",
    "\n",
    "1. numbered item\n",
    "    1. substep"
   ]
  },
  {
   "cell_type": "markdown",
   "metadata": {},
   "source": [
    "colored note boxes:<br>\n",
    "blue boxes (alert-info)\n",
    "<div class=\"alert alert-block alert-info\">\n",
    "<b>Tip:</b> Use blue boxes (alert-info) for tips and notes.\n",
    "If it's a note, you don't have to include the word \"Note\".\n",
    "</div>\n",
    "yellow boxes(laert-warning)\n",
    "<div class=\"alert alert-block alert-warning\">\n",
    "<b>Example:</b> Use yellow boxes for examples that are not \n",
    "inside code cells, or use for mathematical formulas if needed.\n",
    "</div>\n",
    "green boxes(alert-success)\n",
    "<div class=\"alert alert-block alert-success\">\n",
    "<b>Up to you:</b> Use green boxes sparingly, and only for some specific \n",
    "purpose that the other boxes can't cover. For example, if you have a lot \n",
    "of related content to link to, maybe you decide to use green boxes for \n",
    "related links from each section of a notebook.\n",
    "</div>\n",
    "red boxes(alert-danger)\n",
    "<div class=\"alert alert-block alert-danger\">\n",
    "<b>Just don't:</b> In general, avoid the red boxes. These should only be\n",
    "used for actions that might cause data loss or another major issue.\n",
    "</div>"
   ]
  },
  {
   "cell_type": "markdown",
   "metadata": {},
   "source": [
    "graphics:<br>\n",
    "you can attach image files directly to a notebook in markdown cells by dragging and dropping it into the cell\n",
    "<img src=\"doge.jpg\" alt=\"Alt text that describes the graphic\" title=\"Title text\" />"
   ]
  },
  {
   "cell_type": "markdown",
   "metadata": {},
   "source": [
    "geometric shapes:<br>\n",
    "&#reference_number<br>\n",
    "&#25A0"
   ]
  },
  {
   "cell_type": "markdown",
   "metadata": {},
   "source": [
    "horizontal lines:<br>\n",
    "***"
   ]
  },
  {
   "cell_type": "markdown",
   "metadata": {},
   "source": [
    "<a id=\"test\"><a>\n",
    "    test area"
   ]
  },
  {
   "cell_type": "markdown",
   "metadata": {},
   "source": [
    "internal links:<br>\n",
    "to link to a section within the notebook, use following code:\n",
    "$ [section title](#section-title) $<br>\n",
    "[titles](#titles)<br>\n",
    "or use id:<br>\n",
    "[testarea](#test)"
   ]
  },
  {
   "cell_type": "markdown",
   "metadata": {},
   "source": [
    "external links:<br>\n",
    "__[google link](http://google.com)__"
   ]
  },
  {
   "cell_type": "code",
   "execution_count": null,
   "metadata": {},
   "outputs": [],
   "source": []
  }
 ],
 "metadata": {
  "kernelspec": {
   "display_name": "Python 3",
   "language": "python",
   "name": "python3"
  },
  "language_info": {
   "codemirror_mode": {
    "name": "ipython",
    "version": 3
   },
   "file_extension": ".py",
   "mimetype": "text/x-python",
   "name": "python",
   "nbconvert_exporter": "python",
   "pygments_lexer": "ipython3",
   "version": "3.6.5"
  }
 },
 "nbformat": 4,
 "nbformat_minor": 2
}
